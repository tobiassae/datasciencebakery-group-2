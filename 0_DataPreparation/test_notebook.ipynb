{
 "cells": [
  {
   "cell_type": "code",
   "execution_count": null,
   "metadata": {},
   "outputs": [],
   "source": [
    "import pandas as pd\n",
    "import matplotlib.pyplot as plt\n",
    "import seaborn as sns\n",
    "import numpy as np\n",
    "import scipy.stats as stats\n",
    "from scipy.stats import chi2_contingency"
   ]
  },
  {
   "cell_type": "code",
   "execution_count": null,
   "metadata": {},
   "outputs": [],
   "source": [
    "# load the data from URL\n",
    "kiwo_url = 'https://raw.githubusercontent.com/opencampus-sh/einfuehrung-in-data-science-und-ml/main/kiwo.csv'\n",
    "umsatz_url = 'https://raw.githubusercontent.com/opencampus-sh/einfuehrung-in-data-science-und-ml/main/umsatzdaten_gekuerzt.csv'\n",
    "wetter_url = 'https://raw.githubusercontent.com/opencampus-sh/einfuehrung-in-data-science-und-ml/main/wetter.csv'\n",
    "\n",
    "df_kiwo = pd.read_csv(kiwo_url)\n",
    "df_umsatz = pd.read_csv(umsatz_url)\n",
    "df_wetter = pd.read_csv(wetter_url)"
   ]
  },
  {
   "cell_type": "code",
   "execution_count": null,
   "metadata": {},
   "outputs": [],
   "source": [
    "# Merge df_umsatz with df_wetter on the 'date' column\n",
    "df = pd.merge(df_umsatz, df_wetter, on='Datum', how='left')\n",
    "\n",
    "# Merge the result with df_kiwo on the 'date' column\n",
    "df = pd.merge(df, df_kiwo, on='Datum', how='left')\n",
    "\n",
    "# Print the combined DataFrame\n",
    "print(df)"
   ]
  }
 ],
 "metadata": {
  "language_info": {
   "name": "python"
  }
 },
 "nbformat": 4,
 "nbformat_minor": 2
}
