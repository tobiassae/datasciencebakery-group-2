{
 "cells": [
  {
   "cell_type": "code",
   "execution_count": 15,
   "metadata": {},
   "outputs": [
    {
     "name": "stdout",
     "output_type": "stream",
     "text": [
      "Epoch 1/5\n"
     ]
    },
    {
     "name": "stderr",
     "output_type": "stream",
     "text": [
      "/home/codespace/.python/current/lib/python3.12/site-packages/keras/src/layers/rnn/rnn.py:200: UserWarning: Do not pass an `input_shape`/`input_dim` argument to a layer. When using Sequential models, prefer using an `Input(shape)` object as the first layer in the model instead.\n",
      "  super().__init__(**kwargs)\n"
     ]
    },
    {
     "name": "stdout",
     "output_type": "stream",
     "text": [
      "\u001b[1m234/234\u001b[0m \u001b[32m━━━━━━━━━━━━━━━━━━━━\u001b[0m\u001b[37m\u001b[0m \u001b[1m2s\u001b[0m 3ms/step - loss: 42917.5586 - mean_absolute_percentage_error: 77.0329 - val_loss: 3087.3279 - val_mean_absolute_percentage_error: 26.7364 - learning_rate: 0.0100\n",
      "Epoch 2/5\n",
      "\u001b[1m234/234\u001b[0m \u001b[32m━━━━━━━━━━━━━━━━━━━━\u001b[0m\u001b[37m\u001b[0m \u001b[1m1s\u001b[0m 2ms/step - loss: 4941.4888 - mean_absolute_percentage_error: 27.5608 - val_loss: 2350.1833 - val_mean_absolute_percentage_error: 22.7105 - learning_rate: 0.0099\n",
      "Epoch 3/5\n",
      "\u001b[1m234/234\u001b[0m \u001b[32m━━━━━━━━━━━━━━━━━━━━\u001b[0m\u001b[37m\u001b[0m \u001b[1m1s\u001b[0m 2ms/step - loss: 4851.4634 - mean_absolute_percentage_error: 24.2860 - val_loss: 2184.7988 - val_mean_absolute_percentage_error: 20.2312 - learning_rate: 0.0098\n",
      "Epoch 4/5\n",
      "\u001b[1m234/234\u001b[0m \u001b[32m━━━━━━━━━━━━━━━━━━━━\u001b[0m\u001b[37m\u001b[0m \u001b[1m1s\u001b[0m 2ms/step - loss: 4036.2310 - mean_absolute_percentage_error: 21.9793 - val_loss: 2206.9673 - val_mean_absolute_percentage_error: 19.9738 - learning_rate: 0.0097\n",
      "Epoch 5/5\n",
      "\u001b[1m234/234\u001b[0m \u001b[32m━━━━━━━━━━━━━━━━━━━━\u001b[0m\u001b[37m\u001b[0m \u001b[1m1s\u001b[0m 2ms/step - loss: 4283.0815 - mean_absolute_percentage_error: 21.9627 - val_loss: 2222.5005 - val_mean_absolute_percentage_error: 20.5339 - learning_rate: 0.0096\n"
     ]
    },
    {
     "data": {
      "image/png": "[encoded data removed]",
      "text/plain": [
       "<Figure size 640x480 with 1 Axes>"
      ]
     },
     "metadata": {},
     "output_type": "display_data"
    },
    {
     "name": "stdout",
     "output_type": "stream",
     "text": [
      "\u001b[1m59/59\u001b[0m \u001b[32m━━━━━━━━━━━━━━━━━━━━\u001b[0m\u001b[37m\u001b[0m \u001b[1m0s\u001b[0m 3ms/step\n",
      "MAPE on validation set: 20.23%\n",
      "\u001b[1m58/58\u001b[0m \u001b[32m━━━━━━━━━━━━━━━━━━━━\u001b[0m\u001b[37m\u001b[0m \u001b[1m0s\u001b[0m 1ms/step \n"
     ]
    }
   ],
   "source": [
    "import pandas as pd\n",
    "import numpy as np\n",
    "import tensorflow as tf\n",
    "from tensorflow.keras.layers import LSTM, Dense, Dropout\n",
    "from tensorflow.keras.callbacks import EarlyStopping, ModelCheckpoint, LearningRateScheduler\n",
    "from sklearn.preprocessing import StandardScaler\n",
    "from sklearn.impute import KNNImputer\n",
    "from sklearn.model_selection import train_test_split\n",
    "import matplotlib.pyplot as plt\n",
    "\n",
    "# Load data\n",
    "kiwo_url = '../../Data/kiwo.csv'\n",
    "umsatz_url = '../../Data/train.csv'\n",
    "wetter_url = '../../Data/wetter.csv'\n",
    "test_url = '../../Data/test.csv'\n",
    "\n",
    "df_kiwo = pd.read_csv(kiwo_url)\n",
    "df_umsatz = pd.read_csv(umsatz_url)\n",
    "df_wetter = pd.read_csv(wetter_url)\n",
    "df_test = pd.read_csv(test_url)\n",
    "\n",
    "# Merge data\n",
    "df_train = pd.merge(df_umsatz, df_wetter, on='Datum', how='left')\n",
    "df_train = pd.merge(df_train, df_kiwo, on='Datum', how='left')\n",
    "df_test = pd.merge(df_test, df_wetter, on='Datum', how='left')\n",
    "df_test = pd.merge(df_test, df_kiwo, on='Datum', how='left')\n",
    "\n",
    "# Function to prepare data\n",
    "def prepare_data(data):\n",
    "    data['Datum'] = pd.to_datetime(data['Datum'])\n",
    "    data['DayOfWeek'] = data['Datum'].dt.dayofweek\n",
    "    data['Month'] = data['Datum'].dt.month\n",
    "    data['IsWeekend'] = (data['DayOfWeek'] >= 5).astype(float)\n",
    "    data['KielerWoche'] = data['KielerWoche'].fillna(0).astype(float)\n",
    "    \n",
    "    # Replace NaNs using KNN Imputer\n",
    "    numerical_cols = ['Temperatur', 'Windgeschwindigkeit', 'Bewoelkung', 'Wettercode', 'IsWeekend']\n",
    "    knn_imputer = KNNImputer(n_neighbors=5)\n",
    "    data[numerical_cols] = knn_imputer.fit_transform(data[numerical_cols])\n",
    "    \n",
    "    # One-hot encode categorical features\n",
    "    warengruppe_dummies = pd.get_dummies(data['Warengruppe'], prefix='Warengruppe')\n",
    "    day_dummies = pd.get_dummies(data['DayOfWeek'], prefix='Day')\n",
    "    month_dummies = pd.get_dummies(data['Month'], prefix='Month')\n",
    "    \n",
    "    # Combine all features\n",
    "    feature_df = pd.concat([data[numerical_cols], warengruppe_dummies, day_dummies, month_dummies], axis=1)\n",
    "    return feature_df\n",
    "\n",
    "# Prepare datasets\n",
    "X_train = prepare_data(df_train)\n",
    "y_train = df_train['Umsatz']\n",
    "X_test = prepare_data(df_test)\n",
    "\n",
    "# Standardize data\n",
    "scaler = StandardScaler()\n",
    "X_train = scaler.fit_transform(X_train)\n",
    "X_test = scaler.transform(X_test)\n",
    "\n",
    "# NO RANDOM SPLIT FOR TIMESERIES DATA!\n",
    "# Split data into training and validation sets\n",
    "X_train, X_val, y_train, y_val = train_test_split(X_train, y_train, test_size=0.2, random_state=42)\n",
    "\n",
    "# Reshape for LSTM (samples, time steps, features)\n",
    "X_train = X_train.reshape(X_train.shape[0], 1, X_train.shape[1])\n",
    "X_val = X_val.reshape(X_val.shape[0], 1, X_val.shape[1])\n",
    "X_test = X_test.reshape(X_test.shape[0], 1, X_test.shape[1])\n",
    "\n",
    "# Learning rate scheduler function\n",
    "def lr_schedule(epoch, lr):\n",
    "    initial_lr = 0.01  # Start with this learning rate\n",
    "    decay_rate = 0.1  # Decay rate\n",
    "    decay_steps = 10  # Epochs after which to decay\n",
    "    return initial_lr * np.exp(-decay_rate * (epoch / decay_steps))\n",
    "\n",
    "# Define callbacks\n",
    "early_stopping = EarlyStopping(monitor='val_loss', patience=40, restore_best_weights=True)\n",
    "model_checkpoint = ModelCheckpoint('best_model.keras', monitor='val_loss', save_best_only=True)\n",
    "lr_scheduler = LearningRateScheduler(lr_schedule)\n",
    "\n",
    "# Build the model\n",
    "model = tf.keras.Sequential([\n",
    "    LSTM(50, activation='relu', input_shape=(X_train.shape[1], X_train.shape[2])),\n",
    "    Dropout(0.2),\n",
    "    Dense(1)\n",
    "])\n",
    "\n",
    "# Compile the model\n",
    "model.compile(optimizer=tf.keras.optimizers.Adam(), loss='mse', metrics=['mean_absolute_percentage_error'])\n",
    "\n",
    "# Train the model\n",
    "history = model.fit(\n",
    "    X_train, y_train, \n",
    "    epochs=5, # was 150\n",
    "    batch_size=32, \n",
    "    validation_data=(X_val, y_val), \n",
    "    callbacks=[early_stopping, model_checkpoint, lr_scheduler]\n",
    ")\n",
    "\n",
    "# Plot training history\n",
    "plt.plot(history.history['loss'], label='Train Loss')\n",
    "plt.plot(history.history['val_loss'], label='Val Loss')\n",
    "plt.plot(history.history['mean_absolute_percentage_error'], label='Train MAPE')\n",
    "plt.plot(history.history['val_mean_absolute_percentage_error'], label='Val MAPE')\n",
    "plt.xlabel('Epoch')\n",
    "plt.ylabel('Loss/Metric')\n",
    "plt.legend()\n",
    "plt.show()\n",
    "\n",
    "# Load the best model\n",
    "model.load_weights('best_model.keras')\n",
    "\n",
    "# Evaluate on validation set\n",
    "val_predictions = model.predict(X_val).flatten()\n",
    "val_mape = tf.keras.metrics.MeanAbsolutePercentageError()(y_val, val_predictions).numpy()\n",
    "print(f'MAPE on validation set: {val_mape:.2f}%')\n",
    "\n",
    "# Make predictions on test set and save results\n",
    "test_predictions = model.predict(X_test).flatten()\n",
    "df_test['Predicted_Umsatz'] = test_predictions\n",
    "df_test.to_csv('predicted_test.csv', index=False)"
   ]
  }
 ],
 "metadata": {
  "kernelspec": {
   "display_name": "Python 3",
   "language": "python",
   "name": "python3"
  },
  "language_info": {
   "codemirror_mode": {
    "name": "ipython",
    "version": 3
   },
   "file_extension": ".py",
   "mimetype": "text/x-python",
   "name": "python",
   "nbconvert_exporter": "python",
   "pygments_lexer": "ipython3",
   "version": "3.12.1"
  }
 },
 "nbformat": 4,
 "nbformat_minor": 2
}
